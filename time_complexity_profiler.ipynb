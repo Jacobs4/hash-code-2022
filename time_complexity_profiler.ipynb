{
 "cells": [
  {
   "cell_type": "code",
   "execution_count": 3,
   "metadata": {
    "collapsed": true
   },
   "outputs": [],
   "source": [
    "from simulated_annealing import simulated_annealing, exponential_cooling_schedule\n",
    "from custom_parser import parse_dataset"
   ]
  },
  {
   "cell_type": "code",
   "execution_count": 4,
   "outputs": [
    {
     "name": "stdout",
     "output_type": "stream",
     "text": [
      "The snakeviz extension is already loaded. To reload it, use:\n",
      "  %reload_ext snakeviz\n",
      "60.50060671375363\n",
      "36.60323412732292\n",
      "22.14517872388609\n",
      "13.397967485796173\n",
      "8.105851616218128\n",
      "4.9040894071285726\n",
      "2.96700384509771\n",
      "1.7950553275045138\n",
      "1.0860193639877882\n",
      "0.6570483042414603\n",
      " \n",
      "*** Profile stats marshalled to file 'C:\\\\Users\\\\HYPERB~1\\\\AppData\\\\Local\\\\Temp\\\\tmp2vg5lj8i'.\n",
      "Embedding SnakeViz in this document...\n"
     ]
    },
    {
     "data": {
      "text/plain": "<IPython.core.display.HTML object>",
      "text/html": "\n<iframe id='snakeviz-adca1532-89a5-11ec-bc52-38002595faf5' frameborder=0 seamless width='100%' height='1000'></iframe>\n<script>document.getElementById(\"snakeviz-adca1532-89a5-11ec-bc52-38002595faf5\").setAttribute(\"src\", \"http://\" + document.location.hostname + \":8080/snakeviz/C%3A%5CUsers%5CHYPERB~1%5CAppData%5CLocal%5CTemp%5Ctmp2vg5lj8i\")</script>\n"
     },
     "metadata": {},
     "output_type": "display_data"
    }
   ],
   "source": [
    "%load_ext snakeviz\n",
    "customers = parse_dataset(\"input-data/d_difficult.in.txt\")\n",
    "%snakeviz simulated_annealing(customers, t_start=100, t_stop=1, t_iter=50, alpha=0.99, change_temperature=exponential_cooling_schedule)"
   ],
   "metadata": {
    "collapsed": false,
    "pycharm": {
     "name": "#%%\n"
    }
   }
  },
  {
   "cell_type": "code",
   "execution_count": 4,
   "outputs": [],
   "source": [],
   "metadata": {
    "collapsed": false,
    "pycharm": {
     "name": "#%%\n"
    }
   }
  }
 ],
 "metadata": {
  "kernelspec": {
   "display_name": "Python 3",
   "language": "python",
   "name": "python3"
  },
  "language_info": {
   "codemirror_mode": {
    "name": "ipython",
    "version": 2
   },
   "file_extension": ".py",
   "mimetype": "text/x-python",
   "name": "python",
   "nbconvert_exporter": "python",
   "pygments_lexer": "ipython2",
   "version": "2.7.6"
  }
 },
 "nbformat": 4,
 "nbformat_minor": 0
}